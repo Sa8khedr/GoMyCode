{
 "cells": [
  {
   "cell_type": "code",
   "execution_count": 3,
   "id": "5fa69ea5",
   "metadata": {},
   "outputs": [
    {
     "name": "stdout",
     "output_type": "stream",
     "text": [
      "(1, 2, 3)\n"
     ]
    }
   ],
   "source": [
    "class Point3D:\n",
    "    def __init__(self, x, y, z):\n",
    "        self.x = x\n",
    "        self.y = y\n",
    "        self.z = z\n",
    "\n",
    "    def coordinates(self):\n",
    "        return (self.x, self.y, self.z)\n",
    "\n",
    "my_point = Point3D(1, 2, 3)\n",
    "print(my_point.coordinates())"
   ]
  },
  {
   "cell_type": "code",
   "execution_count": 4,
   "id": "da36346d",
   "metadata": {},
   "outputs": [
    {
     "name": "stdout",
     "output_type": "stream",
     "text": [
      "Area:  12\n",
      "Perimeter:  14\n"
     ]
    }
   ],
   "source": [
    "class Rectangle:\n",
    "    def __init__(self, length, width):\n",
    "        self.length = length\n",
    "        self.width = width\n",
    "\n",
    "    def area(self):\n",
    "        return self.length * self.width\n",
    "\n",
    "    def perimeter(self):\n",
    "        return 2 * (self.length + self.width)\n",
    "    \n",
    "my_rectangle = Rectangle(4, 3)\n",
    "print(\"Area: \", my_rectangle.area())\n",
    "print(\"Perimeter: \", my_rectangle.perimeter())"
   ]
  },
  {
   "cell_type": "code",
   "execution_count": 7,
   "id": "3ebb3b7b",
   "metadata": {},
   "outputs": [],
   "source": [
    "import math\n",
    "\n",
    "class Circle:\n",
    "    def __init__(self, center_x, center_y, radius):\n",
    "        self.center_x = center_x\n",
    "        self.center_y = center_y\n",
    "        self.radius = radius\n",
    "\n",
    "    def area(self):\n",
    "        return math.pi * self.radius**2\n",
    "\n",
    "    def perimeter(self):\n",
    "        return 2 * math.pi * self.radius\n",
    "\n",
    "    def is_inside(self, point_x, point_y):\n",
    "        distance = math.sqrt((point_x - self.center_x)**2 + (point_y - self.center_y)**2)\n",
    "        return distance <= self.radius"
   ]
  },
  {
   "cell_type": "code",
   "execution_count": 8,
   "id": "18209f0f",
   "metadata": {},
   "outputs": [],
   "source": [
    "class Bank:\n",
    "    def __init__(self, balance):\n",
    "        self.balance = balance\n",
    "\n",
    "    def deposit(self, amount):\n",
    "        self.balance += amount\n",
    "\n",
    "    def withdraw(self, amount):\n",
    "        if amount > self.balance:\n",
    "            print(\"Insufficient funds.\")\n",
    "        else:\n",
    "            self.balance -= amount\n",
    "\n",
    "    def get_balance(self):\n",
    "        return self.balance"
   ]
  },
  {
   "cell_type": "code",
   "execution_count": null,
   "id": "243d0e3b",
   "metadata": {},
   "outputs": [],
   "source": []
  }
 ],
 "metadata": {
  "kernelspec": {
   "display_name": "Python 3 (ipykernel)",
   "language": "python",
   "name": "python3"
  },
  "language_info": {
   "codemirror_mode": {
    "name": "ipython",
    "version": 3
   },
   "file_extension": ".py",
   "mimetype": "text/x-python",
   "name": "python",
   "nbconvert_exporter": "python",
   "pygments_lexer": "ipython3",
   "version": "3.10.9"
  }
 },
 "nbformat": 4,
 "nbformat_minor": 5
}
