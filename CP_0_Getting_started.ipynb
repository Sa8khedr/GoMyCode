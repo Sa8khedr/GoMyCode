{
  "nbformat": 4,
  "nbformat_minor": 0,
  "metadata": {
    "colab": {
      "provenance": []
    },
    "kernelspec": {
      "name": "python3",
      "display_name": "Python 3"
    },
    "language_info": {
      "name": "python"
    }
  },
  "cells": [
    {
      "cell_type": "code",
      "execution_count": 1,
      "metadata": {
        "colab": {
          "base_uri": "https://localhost:8080/"
        },
        "id": "sjKMnNN_HicO",
        "outputId": "93fd0ec1-a3a3-4bdd-922f-754c2fca6c72"
      },
      "outputs": [
        {
          "output_type": "stream",
          "name": "stdout",
          "text": [
            "Welcome To Python World, It Makes You Fly\n"
          ]
        }
      ],
      "source": [
        "print(\"Welcome To Python World, It Makes You Fly\")"
      ]
    }
  ]
}