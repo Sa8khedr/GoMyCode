{
 "cells": [
  {
   "cell_type": "code",
   "execution_count": 4,
   "id": "8ecffa26",
   "metadata": {},
   "outputs": [
    {
     "name": "stdout",
     "output_type": "stream",
     "text": [
      "Enter The First Number: 6\n",
      "Enter The Second Number: 2\n",
      "Enter an operator (+, -, *, /): /\n",
      "3.0\n"
     ]
    }
   ],
   "source": [
    "def calculator(num_1, num_2):\n",
    "    operator = input(\"Enter an operator (+, -, *, /): \")\n",
    "    if operator == '+':\n",
    "        return num_1 + num_2\n",
    "    elif operator == '-':\n",
    "        return num_1 - num_2\n",
    "    elif operator == '*':\n",
    "        return num_1 * num_2\n",
    "    elif operator == '/':\n",
    "        if num_2 == 0:\n",
    "            return \"Error: Cannot divide by zero\"\n",
    "        else:\n",
    "            return num_1 / num_2\n",
    "    else:\n",
    "        return \"Error: Invalid operator\"\n",
    "\n",
    "n1 = int(input(\"Enter The First Number: \"))\n",
    "n2 = int(input(\"Enter The Second Number: \"))\n",
    "print(calculator(n1, n2))"
   ]
  },
  {
   "cell_type": "code",
   "execution_count": null,
   "id": "1bd4e685",
   "metadata": {},
   "outputs": [],
   "source": []
  }
 ],
 "metadata": {
  "kernelspec": {
   "display_name": "Python 3 (ipykernel)",
   "language": "python",
   "name": "python3"
  },
  "language_info": {
   "codemirror_mode": {
    "name": "ipython",
    "version": 3
   },
   "file_extension": ".py",
   "mimetype": "text/x-python",
   "name": "python",
   "nbconvert_exporter": "python",
   "pygments_lexer": "ipython3",
   "version": "3.10.9"
  }
 },
 "nbformat": 4,
 "nbformat_minor": 5
}
